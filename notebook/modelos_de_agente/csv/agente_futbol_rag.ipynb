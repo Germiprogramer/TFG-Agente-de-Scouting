{
 "cells": [
  {
   "cell_type": "markdown",
   "id": "aaeb3114",
   "metadata": {},
   "source": [
    "# 🧠 Agente RAG de Scouting Futbolístico con LangChain\n",
    "\n",
    "Este notebook permite hacer consultas inteligentes sobre una base de datos de jugadores usando LangChain + GPT-3.5."
   ]
  },
  {
   "cell_type": "code",
   "execution_count": null,
   "id": "d94490ef",
   "metadata": {},
   "outputs": [],
   "source": [
    "from langchain_experimental.agents import create_csv_agent\n",
    "from langchain.chat_models import ChatOpenAI\n",
    "from dotenv import load_dotenv\n",
    "import os\n",
    "from langchain_experimental.utilities import PythonREPL"
   ]
  },
  {
   "cell_type": "code",
   "execution_count": 13,
   "id": "2098d783",
   "metadata": {},
   "outputs": [
    {
     "data": {
      "text/plain": [
       "True"
      ]
     },
     "execution_count": 13,
     "metadata": {},
     "output_type": "execute_result"
    }
   ],
   "source": [
    "load_dotenv()"
   ]
  },
  {
   "cell_type": "code",
   "execution_count": 14,
   "id": "39a741be",
   "metadata": {},
   "outputs": [
    {
     "name": "stdout",
     "output_type": "stream",
     "text": [
      "OPENAI_API_KEY is set\n"
     ]
    }
   ],
   "source": [
    "# Load the OpenAI API key from the environment variable\n",
    "if os.getenv(\"OPENAI_API_KEY\") is None or os.getenv(\"OPENAI_API_KEY\") == \"\":\n",
    "        print(\"OPENAI_API_KEY is not set\")\n",
    "        exit(1)\n",
    "else:\n",
    "        print(\"OPENAI_API_KEY is set\")"
   ]
  },
  {
   "cell_type": "code",
   "execution_count": 15,
   "id": "d6e28218",
   "metadata": {},
   "outputs": [],
   "source": [
    "csv_file = \"datos/datos_jugadores_v5/jugadores_total.csv\""
   ]
  },
  {
   "cell_type": "code",
   "execution_count": null,
   "id": "4ae74a77",
   "metadata": {},
   "outputs": [],
   "source": [
    "llm = ChatOpenAI(model=\"gpt-3.5-turbo\", max_tokens=300)"
   ]
  },
  {
   "cell_type": "code",
   "execution_count": 17,
   "id": "a0f0d100",
   "metadata": {},
   "outputs": [],
   "source": [
    "prefix = \"\"\"\n",
    "Eres un agente experto en análisis de jugadores de fútbol. Solo puedes usar el DataFrame `df` que contiene columnas como 'player_name', 'team', 'value_eur', 'goals_per90', etc.\n",
    "\n",
    "**Solo puedes utilizar los datos que están dentro de ese DataFrame.**\n",
    "**No debes usar conocimiento externo.**\n",
    "No debes mencionar a jugadores que no estén en el DataFrame.\n",
    "\n",
    "Guía de traducción para interpretar posiciones (columna main_position):\n",
    "- portero → goalkeeper\n",
    "- lateral → left back, right back\n",
    "- defensa central → center back\n",
    "- mediocentro defensivo → defensive midfield\n",
    "- mediocentro → center midfield\n",
    "- mediocentro ofensivo → offensive midfield\n",
    "- extremo → winger\n",
    "- delantero → striker\n",
    "\n",
    "⚠️ No debes usar información externa, solo el DataFrame.\n",
    "\n",
    "Cuando te pregunten, debes:\n",
    "\n",
    "- Mostrar como respuesta final solo una tabla con las columnas `player_name`, `team`, `value_eur` y aquellas relacionadas con la pregunta (por ejemplo `goals_per90` si se pregunta por goles).\n",
    "\n",
    "\"\"\""
   ]
  },
  {
   "cell_type": "code",
   "execution_count": 18,
   "id": "e3c13f8b",
   "metadata": {},
   "outputs": [],
   "source": [
    "from mplsoccer import PyPizza\n",
    "import matplotlib.pyplot as plt\n",
    "\n",
    "def pizza_radar_jugador(player_name, df_percentils, df_total):\n",
    "\n",
    "    # Diccionario de etiquetas por rol\n",
    "    etiquetas_posiciones = {\n",
    "        \"goalkeeper\": [\"Goalkeeper\"],\n",
    "        \"center_back\": ['Center Back', 'Right Center Back', 'Left Center Back'],\n",
    "        \"side_back\": ['Left Back', 'Right Back', 'Right Wing Back', 'Left Wing Back'],\n",
    "        \"defensive_midfield\": ['Right Defensive Midfield', 'Center Defensive Midfield', 'Left Defensive Midfield'],\n",
    "        \"center_midfield\": ['Right Center Midfield', 'Center Midfield', 'Left Center Midfield'],\n",
    "        \"offensive_midfield\": ['Left Attacking Midfield', 'Center Attacking Midfield', 'Right Attacking Midfield'],\n",
    "        \"winger\": ['Left Wing', 'Left Midfield', 'Right Wing', 'Right Midfield'],\n",
    "        \"striker\": ['Center Forward', 'Secondary Striker', 'Left Center Forward', 'Right Center Forward']\n",
    "    }\n",
    "\n",
    "        # Mapear cada tipo de posición a columnas y etiquetas del radar\n",
    "    radar_config = {\n",
    "        \"goalkeeper\": (\n",
    "            [\"saves_per90\", \"save_percentage\", \"xg_against_minus_goals_conceded_per90\",\n",
    "            \"keeper_sweeper_per90\", \"penalty_save_percentage\", \"aerial_dominance_index_per90\",\n",
    "             \"pass_completion_rate\"],\n",
    "            [\"Paradas /90\", \"Porcentaje paradas\", \"xG - Goles /90\", \"Sweeper /90\", \"Penaltis detenidos %\",\n",
    "            \"Dominio aéreo\", \"Precisión pase %\"]\n",
    "        ),\n",
    "        \"center_back\": (\n",
    "            [\"tackles_successful_per90\", \"interceptions_per90\", \"clearances_per90\",\n",
    "            \"blocks_per90\", \"times_dribbled_past_per90\", \"progressive_passes_per90\",\n",
    "            \"duel_success_rate\", \"goals_scored_per90\"],\n",
    "            [\"Tackles exitosos /90\", \"Intercepciones /90\", \"Despejes /90\", \"Bloqueos /90\", \"Regates sufridos /90\",\n",
    "            \"Pases progresivos /90\", \"Duelos ganados %\", \"Goles /90\"]\n",
    "        ),\n",
    "        \"side_back\": (\n",
    "            [\"interception_success_rate\", \"pressures_per90\", \"duels_won_per90\", \"tackles_successful_per90\",\n",
    "            \"progressive_carries_per90\", \"chances_created_per90\", \"goals_scored_per90\", \"fouls_committed_per90\"],\n",
    "            [\"Intercepciones %\", \"Presiones /90\", \"Duelos ganados /90\", \"Tackles exitosos /90\",\n",
    "            \"Conducciones progresivas /90\", \"Ocasiones creadas /90\", \"Goles /90\", \"Faltas cometidas /90\"]\n",
    "        ),\n",
    "        \"defensive_midfield\": (\n",
    "            [\"ball_recoveries_per90\", \"duels_won_per90\", \"duel_success_rate\", \"interceptions_per90\",\n",
    "            \"pass_completion_rate\", \"progressive_passes_per90\", \"chances_created_per90\", \"fouls_committed_per90\"],\n",
    "            [\"Recuperaciones /90\", \"Duelos ganados /90\", \"Duelos ganados %\", \"Intercepciones /90\",\n",
    "            \"Precisión pase %\", \"Pases progresivos /90\", \"Ocasiones creadas /90\", \"Faltas cometidas /90\"]\n",
    "        ),\n",
    "        \"center_midfield\": (\n",
    "            [\"duels_won_per90\", \"pressures_per90\", \"dribble_success_rate\", \"pass_completion_rate\",\n",
    "            \"progressive_passes_per90\", \"chances_created_per90\", \"goal_assists_per90\", \"goals_scored_per90\"],\n",
    "            [\"Duelos ganados /90\", \"Presiones /90\", \"Éxito regate %\", \"Precisión pase %\",\n",
    "            \"Pases progresivos /90\", \"Ocasiones creadas /90\", \"Asistencias /90\", \"Goles /90\"]\n",
    "        ),\n",
    "        \"offensive_midfield\": (\n",
    "            [\"pass_completion_rate\", \"goal_assists_per90\", \"chances_created_per90\", \"dribbles_completed_per90\",\n",
    "            \"dribble_success_rate\", \"progressive_passes_per90\", \"fouls_won_per90\", \"goals_scored_per90\"],\n",
    "            [\"Precisión pase %\", \"Asistencias /90\", \"Ocasiones creadas /90\", \"Regates completados /90\",\n",
    "            \"Éxito regate %\", \"Pases progresivos /90\", \"Faltas recibidas /90\", \"Goles /90\"]\n",
    "        ),\n",
    "        \"winger\": (\n",
    "            [\"dribbles_completed_per90\", \"dribble_success_rate\", \"progressive_carries_per90\", \"chances_created_per90\",\n",
    "            \"goal_assists_per90\", \"goals_scored_per90\", \"goals_minus_xg_per90\", \"fouls_won_per90\"],\n",
    "            [\"Regates completados /90\", \"Éxito regate %\", \"Conducciones progresivas /90\", \"Ocasiones creadas /90\",\n",
    "            \"Asistencias /90\", \"Goles /90\", \"Goles - xG /90\", \"Faltas recibidas /90\"]\n",
    "        ),\n",
    "        \"striker\": (\n",
    "            [\"goals_scored_per90\", \"goals_minus_xg_per90\", \"headed_shot_duel_rate\", \"dribbles_completed_per90\",\n",
    "            \"chances_created_per90\", \"goal_assists_per90\", \"pass_completion_rate\", \"fouls_won_per90\"],\n",
    "            [\"Goles /90\", \"Goles - xG /90\", \"Duelos aéreos %\", \"Regates completados /90\", \"Ocasiones creadas /90\",\n",
    "            \"Asistencias /90\", \"Precisión pase %\", \"Faltas recibidas /90\"]\n",
    "        )\n",
    "    }\n",
    "\n",
    "    # Obtener fila del jugador\n",
    "    row = df_total[df_total[\"player_name\"] == player_name].iloc[0]\n",
    "    position_label = row[\"main_position\"]\n",
    "    team = row[\"team\"]\n",
    "    rating = round(float(row[\"rating\"]), 2) if str(row[\"rating\"]).replace('.', '', 1).isdigit() else \"S.V\"\n",
    "    market_value = row[\"value_eur\"] / 1000000\n",
    "\n",
    "\n",
    "    # Determinar rol del jugador\n",
    "    rol = None\n",
    "    for key, etiquetas in etiquetas_posiciones.items():\n",
    "        if position_label in etiquetas:\n",
    "            rol = key\n",
    "            break\n",
    "    if rol not in radar_config:\n",
    "        raise ValueError(f\"No se ha definido radar para la posición: {position_label} (rol: {rol})\")\n",
    "\n",
    "    columnas, labels = radar_config[rol]\n",
    "\n",
    "    # Extraer percentiles del DataFrame de percentiles\n",
    "    valores = df_percentils[df_percentils[\"player_name\"] == player_name][columnas].iloc[0].tolist()\n",
    "    valores = [round(v, 2) for v in valores]\n",
    "\n",
    "    # Colores\n",
    "    slice_colors = [\"#1A78CF\"] * 3 + [\"#FF9300\"] * 3 + [\"#D70232\"] * (len(valores) - 6)\n",
    "    text_colors = [\"#F2F2F2\"] * 3 + [\"#000000\"] * 3 + [\"#F2F2F2\"] * (len(valores) - 6)\n",
    "\n",
    "    # Crear radar\n",
    "    baker = PyPizza(\n",
    "        params=labels,\n",
    "        background_color=\"#EBEBE9\",\n",
    "        straight_line_color=\"#EBEBE9\",\n",
    "        straight_line_lw=1,\n",
    "        last_circle_lw=0,\n",
    "        other_circle_lw=0,\n",
    "        inner_circle_size=20\n",
    "    )\n",
    "\n",
    "    fig, ax = baker.make_pizza(\n",
    "        valores,\n",
    "        figsize=(8, 8),\n",
    "        color_blank_space=\"same\",\n",
    "        slice_colors=slice_colors,\n",
    "        value_colors=text_colors,\n",
    "        param_location=110\n",
    "    )\n",
    "\n",
    "    # Título y rating en el centro\n",
    "    fig.text(0.5, 0.97, f\"{player_name} - {team}\", size=18, weight='bold', ha='center')\n",
    "    fig.text(0.5, 0.94, f\"Market value: {market_value} M€\", size=12, weight='semibold', ha='center')\n",
    "    fig.text(0.5125, 0.485, f\"{rating}\", size=18, weight='bold', ha='center')\n",
    "\n",
    "    plt.show()"
   ]
  },
  {
   "cell_type": "code",
   "execution_count": 19,
   "id": "24ce63cd",
   "metadata": {},
   "outputs": [],
   "source": [
    "\n",
    "agent = create_csv_agent(\n",
    "            llm, csv_file, verbose=True, prefix=prefix,agent_type=\"openai-functions\")"
   ]
  },
  {
   "cell_type": "code",
   "execution_count": 20,
   "id": "7fcd40a8",
   "metadata": {},
   "outputs": [],
   "source": [
    "question = \"Tell me 5 players plays as a defensive_midfield with highest pass_completion_rate, and whose height_cm is more than 180, and whose value_eur is less than 2000000.0\""
   ]
  },
  {
   "cell_type": "code",
   "execution_count": 21,
   "id": "20f0ff54",
   "metadata": {},
   "outputs": [
    {
     "name": "stdout",
     "output_type": "stream",
     "text": [
      "\n",
      "\n",
      "\u001b[1m> Entering new AgentExecutor chain...\u001b[0m\n",
      "\u001b[32;1m\u001b[1;3m\n",
      "Invoking: `python_repl_ast` with `{'query': \"df[(df['main_position']=='defensive midfield') & (df['pass_completion_rate']>0) & (df['height_cm']>180) & (df['value_eur']<2000000)].sort_values(by='pass_completion_rate', ascending=False)[['player_name', 'team', 'value_eur', 'pass_completion_rate']].head(5)\"}`\n",
      "\n",
      "\n",
      "\u001b[0m\u001b[36;1m\u001b[1;3m                       player_name               team  value_eur  \\\n",
      "1668                  Julian Weigl  Borussia Dortmund  1500000.0   \n",
      "198     Rodrigo Hernández Cascante         Villarreal   500000.0   \n",
      "259   José Vicente Gómez Umpiérrez         Las Palmas  1200000.0   \n",
      "1315                  Seydou Kéita            AS Roma  1700000.0   \n",
      "163             Joan Jordán Moreno           Espanyol   600000.0   \n",
      "\n",
      "      pass_completion_rate  \n",
      "1668                 92.26  \n",
      "198                  88.00  \n",
      "259                  87.73  \n",
      "1315                 87.34  \n",
      "163                  86.79  \u001b[0m\u001b[32;1m\u001b[1;3mHere are 5 defensive midfielders with the highest pass completion rate, a height of more than 180 cm, and a value less than 2,000,000.0 EUR:\n",
      "\n",
      "1. Julian Weigl from Borussia Dortmund with a pass completion rate of 92.26% and a value of 1,500,000.0 EUR.\n",
      "2. Rodrigo Hernández Cascante from Villarreal with a pass completion rate of 88.00% and a value of 500,000.0 EUR.\n",
      "3. José Vicente Gómez Umpiérrez from Las Palmas with a pass completion rate of 87.73% and a value of 1,200,000.0 EUR.\n",
      "4. Seydou Kéita from AS Roma with a pass completion rate of 87.34% and a value of 1,700,000.0 EUR.\n",
      "5. Joan Jordán Moreno from Espanyol with a pass completion rate of 86.79% and a value of 600,000.0 EUR.\u001b[0m\n",
      "\n",
      "\u001b[1m> Finished chain.\u001b[0m\n"
     ]
    },
    {
     "data": {
      "text/plain": [
       "{'input': 'Tell me 5 players plays as a defensive_midfield with highest pass_completion_rate, and whose height_cm is more than 180, and whose value_eur is less than 2000000.0',\n",
       " 'output': 'Here are 5 defensive midfielders with the highest pass completion rate, a height of more than 180 cm, and a value less than 2,000,000.0 EUR:\\n\\n1. Julian Weigl from Borussia Dortmund with a pass completion rate of 92.26% and a value of 1,500,000.0 EUR.\\n2. Rodrigo Hernández Cascante from Villarreal with a pass completion rate of 88.00% and a value of 500,000.0 EUR.\\n3. José Vicente Gómez Umpiérrez from Las Palmas with a pass completion rate of 87.73% and a value of 1,200,000.0 EUR.\\n4. Seydou Kéita from AS Roma with a pass completion rate of 87.34% and a value of 1,700,000.0 EUR.\\n5. Joan Jordán Moreno from Espanyol with a pass completion rate of 86.79% and a value of 600,000.0 EUR.'}"
      ]
     },
     "execution_count": 21,
     "metadata": {},
     "output_type": "execute_result"
    }
   ],
   "source": [
    "agent.invoke(question)"
   ]
  },
  {
   "cell_type": "code",
   "execution_count": null,
   "id": "bf1de6fe",
   "metadata": {},
   "outputs": [
    {
     "name": "stdout",
     "output_type": "stream",
     "text": [
      "\n",
      "\n",
      "\u001b[1m> Entering new AgentExecutor chain...\u001b[0m\n",
      "\u001b[32;1m\u001b[1;3m\n",
      "Invoking: `python_repl_ast` with `{'query': \"df[(df['main_position']=='goalkeeper') & (df['height_cm']>185) & (df['value_eur']<2000000.0)].sort_values(by=['clean_sheets', 'save_percentage'], ascending=False)[['player_name', 'team', 'value_eur', 'clean_sheets', 'save_percentage']].head(5)\"}`\n",
      "\n",
      "\n",
      "\u001b[0m\u001b[36;1m\u001b[1;3m                   player_name                 team  value_eur  clean_sheets  \\\n",
      "1646   Rune Almenning Jarstein        Hertha Berlin   825000.0            12   \n",
      "1195  Albano Benjamín Bizzarri               Chievo  1000000.0            11   \n",
      "1760             Ramazan Özcan           Ingolstadt  1300000.0            10   \n",
      "1277          Łukasz Skorupski               Empoli  1800000.0             9   \n",
      "1650            Lukáš Hrádecký  Eintracht Frankfurt  1500000.0             8   \n",
      "\n",
      "      save_percentage  \n",
      "1646            71.06  \n",
      "1195            74.53  \n",
      "1760            67.05  \n",
      "1277            67.19  \n",
      "1650            69.94  \u001b[0m\u001b[32;1m\u001b[1;3mHere are the 5 goalkeepers with the highest clean sheets and save percentage, whose height is more than 185 cm, and whose value is less than 2,000,000.0 euros:\n",
      "\n",
      "1. **Rune Almenning Jarstein**\n",
      "   - Team: Hertha Berlin\n",
      "   - Value: 825,000.0 euros\n",
      "   - Clean Sheets: 12\n",
      "   - Save Percentage: 71.06\n",
      "\n",
      "2. **Albano Benjamín Bizzarri**\n",
      "   - Team: Chievo\n",
      "   - Value: 1,000,000.0 euros\n",
      "   - Clean Sheets: 11\n",
      "   - Save Percentage: 74.53\n",
      "\n",
      "3. **Ramazan Özcan**\n",
      "   - Team: Ingolstadt\n",
      "   - Value: 1,300,000.0 euros\n",
      "   - Clean Sheets: 10\n",
      "   - Save Percentage: 67.05\n",
      "\n",
      "4. **Łukasz Skorupski**\n",
      "   - Team: Empoli\n",
      "   - Value: 1,800,000.0 euros\n",
      "   - Clean Sheets: 9\n",
      "   - Save Percentage: 67.19\n",
      "\n",
      "5. **Lukáš Hrádecký**\n",
      "   - Team: Eintracht Frankfurt\n",
      "   - Value: 1,500,000.0 euros\n",
      "   - Clean Sheets: 8\n",
      "   - Save Percentage: 69.94\u001b[0m\n",
      "\n",
      "\u001b[1m> Finished chain.\u001b[0m\n"
     ]
    },
    {
     "data": {
      "text/plain": [
       "{'input': 'Tell me 5 goalkeepers with highest clean_sheets and save_percentage, and whose height_cm is more than 185, and whose value_eur is less than 2000000.0',\n",
       " 'output': 'Here are the 5 goalkeepers with the highest clean sheets and save percentage, whose height is more than 185 cm, and whose value is less than 2,000,000.0 euros:\\n\\n1. **Rune Almenning Jarstein**\\n   - Team: Hertha Berlin\\n   - Value: 825,000.0 euros\\n   - Clean Sheets: 12\\n   - Save Percentage: 71.06\\n\\n2. **Albano Benjamín Bizzarri**\\n   - Team: Chievo\\n   - Value: 1,000,000.0 euros\\n   - Clean Sheets: 11\\n   - Save Percentage: 74.53\\n\\n3. **Ramazan Özcan**\\n   - Team: Ingolstadt\\n   - Value: 1,300,000.0 euros\\n   - Clean Sheets: 10\\n   - Save Percentage: 67.05\\n\\n4. **Łukasz Skorupski**\\n   - Team: Empoli\\n   - Value: 1,800,000.0 euros\\n   - Clean Sheets: 9\\n   - Save Percentage: 67.19\\n\\n5. **Lukáš Hrádecký**\\n   - Team: Eintracht Frankfurt\\n   - Value: 1,500,000.0 euros\\n   - Clean Sheets: 8\\n   - Save Percentage: 69.94'}"
      ]
     },
     "execution_count": 11,
     "metadata": {},
     "output_type": "execute_result"
    }
   ],
   "source": [
    "\"Tell me 5 goalkeepers with highest clean_sheets and save_percentage, and whose height_cm is more than 185, and whose value_eur is less than 2000000.0\"agent.invoke()"
   ]
  }
 ],
 "metadata": {
  "kernelspec": {
   "display_name": "Python 3",
   "language": "python",
   "name": "python3"
  },
  "language_info": {
   "codemirror_mode": {
    "name": "ipython",
    "version": 3
   },
   "file_extension": ".py",
   "mimetype": "text/x-python",
   "name": "python",
   "nbconvert_exporter": "python",
   "pygments_lexer": "ipython3",
   "version": "3.9.8"
  }
 },
 "nbformat": 4,
 "nbformat_minor": 5
}

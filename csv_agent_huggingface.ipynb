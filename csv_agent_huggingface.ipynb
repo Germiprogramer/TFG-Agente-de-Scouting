{
 "cells": [
  {
   "cell_type": "code",
   "execution_count": null,
   "id": "fa048ff7",
   "metadata": {},
   "outputs": [],
   "source": []
  },
  {
   "cell_type": "code",
   "execution_count": null,
   "id": "dd373bb7",
   "metadata": {},
   "outputs": [],
   "source": [
    "import os\n",
    "import pandas as pd\n",
    "from dotenv import load_dotenv\n",
    "from langchain.llms import HuggingFaceHub\n",
    "from langchain_experimental.agents.agent_toolkits.pandas.base import create_pandas_dataframe_agent\n",
    "from langchain.agents import AgentType\n",
    "\n",
    "# Cargar claves del entorno\n",
    "load_dotenv()\n",
    "hf_token = os.getenv(\"HUGGINGFACEHUB_API_TOKEN\")\n",
    "\n",
    "# Verifica que esté la clave\n",
    "if not hf_token:\n",
    "    raise ValueError(\"❌ No se encontró HUGGINGFACEHUB_API_TOKEN en el .env\")\n",
    "\n",
    "# Car"
   ]
  },
  {
   "cell_type": "code",
   "execution_count": null,
   "id": "50abfc53",
   "metadata": {},
   "outputs": [],
   "source": [
    "\n",
    "# Cargar modelo de Hugging Face (gratuito)\n",
    "llm = HuggingFaceHub(\n",
    "    repo_id=\"google/flan-t5-base\",\n",
    "    model_kwargs={\"temperature\": 0, \"max_length\": 512}\n",
    ")\n",
    "\n",
    "# Cargar CSV (ajusta la ruta si es necesario)\n",
    "df = pd.read_csv(\"datos/datos_jugadores_v4/jugadores_total.csv\")\n",
    "print(\"✅ CSV cargado con\", len(df), \"filas\")\n",
    "\n",
    "# Crear el agente sobre el DataFrame\n",
    "agent = create_pandas_dataframe_agent(\n",
    "    llm=llm,\n",
    "    df=df,\n",
    "    verbose=True,\n",
    "    agent_type=AgentType.ZERO_SHOT_REACT_DESCRIPTION\n",
    ")\n",
    "\n",
    "# Ejemplo de uso\n",
    "while True:\n",
    "    pregunta = input(\"\\n🔍 Pregunta sobre el CSV (o escribe 'salir'): \")\n",
    "    if pregunta.lower() == \"salir\":\n",
    "        break\n",
    "    try:\n",
    "        respuesta = agent.run(pregunta)\n",
    "        print(\"🤖\", respuesta)\n",
    "    except Exception as e:\n",
    "        print(\"❌ Error:\", e)\n"
   ]
  }
 ],
 "metadata": {
  "kernelspec": {
   "display_name": "Python 3",
   "language": "python",
   "name": "python3"
  },
  "language_info": {
   "codemirror_mode": {
    "name": "ipython",
    "version": 3
   },
   "file_extension": ".py",
   "mimetype": "text/x-python",
   "name": "python",
   "nbconvert_exporter": "python",
   "pygments_lexer": "ipython3",
   "version": "3.9.8"
  }
 },
 "nbformat": 4,
 "nbformat_minor": 5
}

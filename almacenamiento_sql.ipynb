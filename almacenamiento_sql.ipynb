{
 "cells": [
  {
   "cell_type": "code",
   "execution_count": null,
   "id": "6eded82b",
   "metadata": {},
   "outputs": [],
   "source": [
    "import pandas as pd\n",
    "\n",
    "# Cargar el archivo CSV\n",
    "df_total_v4 = pd.read_csv(\"datos/datos_jugadores_v4/jugadores_total.csv\")\n",
    "df_total_v5 = pd.read_csv(\"datos/datos_jugadores_v5/jugadores_total.csv\")\n",
    "\n",
    "# Crear la nueva columna\n",
    "df_total_v4['sufficient_minutes_played'] = df_total_v4['minutes_played'] >= 850\n",
    "df_total_v5['sufficient_minutes_played'] = df_total_v5['minutes_played'] >= 850\n",
    "\n",
    "# Guardar el resultado si lo deseas\n",
    "df_total_v4.to_csv(\"datos/datos_jugadores_v4/jugadores_total.csv\", index=False)\n",
    "df_total_v5.to_csv(\"datos/datos_jugadores_v5/jugadores_total.csv\", index=False)"
   ]
  },
  {
   "cell_type": "code",
   "execution_count": null,
   "id": "74e3d444",
   "metadata": {},
   "outputs": [],
   "source": [
    "df_total_v4.to_csv()"
   ]
  },
  {
   "cell_type": "code",
   "execution_count": 2,
   "id": "77f8b3f4",
   "metadata": {},
   "outputs": [],
   "source": [
    "df_mezcla = pd.read_csv(\"datos/normalizaciones_posicion/mezcla/mezcla_total.csv\")\n",
    "df_equipos = pd.read_csv(\"datos/datos_equipos/ligas_europeas16_equipos.csv\")"
   ]
  },
  {
   "cell_type": "code",
   "execution_count": null,
   "id": "f6eac9ea",
   "metadata": {},
   "outputs": [],
   "source": [
    "df_total_v4"
   ]
  },
  {
   "cell_type": "code",
   "execution_count": null,
   "id": "b70f4c2e",
   "metadata": {},
   "outputs": [],
   "source": [
    "# 2. Eliminar columnas innecesarias"
   ]
  },
  {
   "cell_type": "code",
   "execution_count": null,
   "id": "71b094d0",
   "metadata": {},
   "outputs": [],
   "source": [
    "# 3. Clasificación de columnas\n",
    "cols_per90 = [col for col in df_total_v4.columns if '_per90' in col.lower()]\n",
    "cols_profile = [\n",
    "    'player_id', 'player_name', 'dob', 'age', 'nationality_id', 'nationality_name',\n",
    "    'preferred_foot', 'height_cm', 'weight_kg', 'main_position', 'positions',\n",
    "    'club_jersey_number', 'club_loaned_from', 'club_contract_valid_until',\n",
    "    'value_eur', 'wage_eur', 'release_clause_eur'\n",
    "]\n",
    "cols_stats = [col for col in df_total_v4.columns if col not in cols_per90 and col not in cols_profile]"
   ]
  },
  {
   "cell_type": "code",
   "execution_count": null,
   "id": "eeb5be51",
   "metadata": {},
   "outputs": [],
   "source": [
    "# 3. Separar los DataFrames\n",
    "df_profile = df_total_v4[cols_profile].copy()\n",
    "df_stats = df_total_v4[['player_id'] + cols_stats].copy()\n",
    "df_per90 = df_total_v4[['player_id'] + cols_per90].copy()"
   ]
  },
  {
   "cell_type": "code",
   "execution_count": null,
   "id": "63e55395",
   "metadata": {},
   "outputs": [
    {
     "data": {
      "text/plain": [
       "1276"
      ]
     },
     "execution_count": 3,
     "metadata": {},
     "output_type": "execute_result"
    }
   ],
   "source": [
    "from sqlalchemy import create_engine\n",
    "\n",
    "# Crear motor para base de datos SQL (puedes cambiarlo por PostgreSQL o MySQL si lo necesitas)\n",
    "engine = create_engine('sqlite:///scouting.db')\n",
    "\n",
    "# Subir DataFrames\n",
    "df_equipos.to_sql('teams', con=engine, if_exists='replace', index=False)\n",
    "\n",
    "# 5. Subida a la base de datos\n",
    "df_profile.to_sql('player_profile', engine, if_exists='replace', index=False)\n",
    "df_stats.to_sql('player_stats', engine, if_exists='replace', index=False)\n",
    "df_per90.to_sql('player_stats_per90', engine, if_exists='replace', index=False)\n"
   ]
  }
 ],
 "metadata": {
  "kernelspec": {
   "display_name": "Python 3",
   "language": "python",
   "name": "python3"
  },
  "language_info": {
   "codemirror_mode": {
    "name": "ipython",
    "version": 3
   },
   "file_extension": ".py",
   "mimetype": "text/x-python",
   "name": "python",
   "nbconvert_exporter": "python",
   "pygments_lexer": "ipython3",
   "version": "3.9.8"
  }
 },
 "nbformat": 4,
 "nbformat_minor": 5
}

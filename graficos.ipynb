{
 "cells": [
  {
   "cell_type": "code",
   "execution_count": 1,
   "id": "a7743175",
   "metadata": {},
   "outputs": [],
   "source": [
    "import importlib\n",
    "import funciones_analisis.estadisticas\n",
    "\n",
    "importlib.reload(funciones_analisis.estadisticas)\n",
    "importlib.reload(funciones_analisis.generales)\n",
    "\n",
    "from funciones_analisis.estadisticas import *\n",
    "from funciones_analisis.generales import *\n",
    "from statsbombpy import sb\n",
    "import pandas as pd\n",
    "from mplsoccer import VerticalPitch, Pitch\n",
    "from highlight_text import ax_text, fig_text\n",
    "import matplotlib.pyplot as plt\n",
    "from matplotlib.colors import LinearSegmentedColormap\n",
    "import matplotlib.patheffects as path_effects\n",
    "import seaborn as sns\n",
    "import glob"
   ]
  },
  {
   "cell_type": "code",
   "execution_count": 2,
   "id": "37856bf2",
   "metadata": {},
   "outputs": [
    {
     "data": {
      "text/html": [
       "<div>\n",
       "<style scoped>\n",
       "    .dataframe tbody tr th:only-of-type {\n",
       "        vertical-align: middle;\n",
       "    }\n",
       "\n",
       "    .dataframe tbody tr th {\n",
       "        vertical-align: top;\n",
       "    }\n",
       "\n",
       "    .dataframe thead th {\n",
       "        text-align: right;\n",
       "    }\n",
       "</style>\n",
       "<table border=\"1\" class=\"dataframe\">\n",
       "  <thead>\n",
       "    <tr style=\"text-align: right;\">\n",
       "      <th></th>\n",
       "      <th>competition_id</th>\n",
       "      <th>season_id</th>\n",
       "      <th>country_name</th>\n",
       "      <th>competition_name</th>\n",
       "      <th>competition_gender</th>\n",
       "      <th>competition_youth</th>\n",
       "      <th>competition_international</th>\n",
       "      <th>season_name</th>\n",
       "      <th>match_updated</th>\n",
       "      <th>match_updated_360</th>\n",
       "      <th>match_available_360</th>\n",
       "      <th>match_available</th>\n",
       "    </tr>\n",
       "  </thead>\n",
       "  <tbody>\n",
       "    <tr>\n",
       "      <th>72</th>\n",
       "      <td>72</td>\n",
       "      <td>107</td>\n",
       "      <td>International</td>\n",
       "      <td>Women's World Cup</td>\n",
       "      <td>female</td>\n",
       "      <td>False</td>\n",
       "      <td>True</td>\n",
       "      <td>2023</td>\n",
       "      <td>2024-07-14T16:59:48.469596</td>\n",
       "      <td>2024-07-14T17:01:38.887279</td>\n",
       "      <td>2024-07-14T17:01:38.887279</td>\n",
       "      <td>2024-07-14T16:59:48.469596</td>\n",
       "    </tr>\n",
       "    <tr>\n",
       "      <th>73</th>\n",
       "      <td>72</td>\n",
       "      <td>30</td>\n",
       "      <td>International</td>\n",
       "      <td>Women's World Cup</td>\n",
       "      <td>female</td>\n",
       "      <td>False</td>\n",
       "      <td>True</td>\n",
       "      <td>2019</td>\n",
       "      <td>2024-02-13T09:41:26.379767</td>\n",
       "      <td>2021-06-13T16:17:31.694</td>\n",
       "      <td>None</td>\n",
       "      <td>2024-02-13T09:41:26.379767</td>\n",
       "    </tr>\n",
       "  </tbody>\n",
       "</table>\n",
       "</div>"
      ],
      "text/plain": [
       "    competition_id  season_id   country_name   competition_name  \\\n",
       "72              72        107  International  Women's World Cup   \n",
       "73              72         30  International  Women's World Cup   \n",
       "\n",
       "   competition_gender  competition_youth  competition_international  \\\n",
       "72             female              False                       True   \n",
       "73             female              False                       True   \n",
       "\n",
       "   season_name               match_updated           match_updated_360  \\\n",
       "72        2023  2024-07-14T16:59:48.469596  2024-07-14T17:01:38.887279   \n",
       "73        2019  2024-02-13T09:41:26.379767     2021-06-13T16:17:31.694   \n",
       "\n",
       "           match_available_360             match_available  \n",
       "72  2024-07-14T17:01:38.887279  2024-07-14T16:59:48.469596  \n",
       "73                        None  2024-02-13T09:41:26.379767  "
      ]
     },
     "execution_count": 2,
     "metadata": {},
     "output_type": "execute_result"
    }
   ],
   "source": [
    "free_comps = sb.competitions()\n",
    "\n",
    "free_comps[free_comps[\"competition_name\"] == \"Women's World Cup\"]\n"
   ]
  },
  {
   "cell_type": "code",
   "execution_count": 3,
   "id": "7e280e8d",
   "metadata": {},
   "outputs": [],
   "source": [
    "# Extraer únicos con país y si es internacional\n",
    "df_unique = free_comps[['competition_name', 'country_name']].drop_duplicates()\n",
    "\n",
    "# Ordenar por nombre\n",
    "df_unique = df_unique.sort_values('competition_name')\n",
    "\n",
    "# Guardar resultado\n",
    "#df_unique.to_csv(\"datos/otros/competitions_with_country.csv\", index=False)\n"
   ]
  },
  {
   "cell_type": "code",
   "execution_count": 4,
   "id": "53231e67",
   "metadata": {},
   "outputs": [
    {
     "name": "stdout",
     "output_type": "stream",
     "text": [
      "Requirement already satisfied: pillow in c:\\users\\germán llorente\\appdata\\local\\programs\\python\\python39\\lib\\site-packages (10.1.0)\n"
     ]
    },
    {
     "name": "stderr",
     "output_type": "stream",
     "text": [
      "\n",
      "[notice] A new release of pip is available: 24.2 -> 25.0.1\n",
      "[notice] To update, run: python.exe -m pip install --upgrade pip\n"
     ]
    }
   ],
   "source": [
    "!pip install pillow\n"
   ]
  },
  {
   "cell_type": "code",
   "execution_count": 5,
   "id": "04da7d35",
   "metadata": {},
   "outputs": [
    {
     "name": "stdout",
     "output_type": "stream",
     "text": [
      "✅ Collage guardado como collage_distribucion_personalizada.png\n"
     ]
    }
   ],
   "source": [
    "from PIL import Image\n",
    "import os\n",
    "\n",
    "# Ruta a la carpeta de imágenes\n",
    "carpeta = \"imagenes/competiciones_statsbomb\"\n",
    "\n",
    "# Parámetros\n",
    "max_ancho, max_alto = 180, 180\n",
    "espaciado = 30\n",
    "layout = [3, 5, 5, 5, 3]  # Distribución por fila\n",
    "\n",
    "# Cargar y escalar imágenes proporcionalmente\n",
    "imagenes = []\n",
    "for archivo in sorted(os.listdir(carpeta)):\n",
    "    if archivo.lower().endswith(('.png', '.jpg', '.jpeg')):\n",
    "        ruta = os.path.join(carpeta, archivo)\n",
    "        img = Image.open(ruta).convert(\"RGBA\")\n",
    "        img.thumbnail((max_ancho, max_alto), Image.LANCZOS)\n",
    "        imagenes.append(img)\n",
    "\n",
    "# Comprobamos que tenemos el número correcto de imágenes\n",
    "total_necesario = sum(layout)\n",
    "if len(imagenes) != total_necesario:\n",
    "    raise ValueError(f\"Se esperaban {total_necesario} imágenes, pero hay {len(imagenes)}.\")\n",
    "\n",
    "# Calcular dimensiones del collage\n",
    "ancho_max = max(layout) * max_ancho + (max(layout) + 1) * espaciado\n",
    "alto_total = len(layout) * max_alto + (len(layout) + 1) * espaciado\n",
    "\n",
    "# Crear lienzo blanco\n",
    "collage = Image.new(\"RGBA\", (ancho_max, alto_total), (255, 255, 255, 255))\n",
    "\n",
    "# Pegar imágenes según layout\n",
    "indice = 0\n",
    "for fila_idx, num_col in enumerate(layout):\n",
    "    y = espaciado + fila_idx * (max_alto + espaciado)\n",
    "\n",
    "    # Calcular margen izquierdo para centrar\n",
    "    fila_ancho = num_col * max_ancho + (num_col - 1) * espaciado\n",
    "    margen_izq = (ancho_max - fila_ancho) // 2\n",
    "\n",
    "    for col in range(num_col):\n",
    "        img = imagenes[indice]\n",
    "        x = margen_izq + col * (max_ancho + espaciado)\n",
    "\n",
    "        # Centrar dentro del recuadro\n",
    "        x_offset = x + (max_ancho - img.width) // 2\n",
    "        y_offset = y + (max_alto - img.height) // 2\n",
    "\n",
    "        collage.paste(img, (x_offset, y_offset), img)\n",
    "        indice += 1\n",
    "\n",
    "# Guardar collage final\n",
    "#collage.save(\"imagenes/collage_distribucion_personalizada.png\")\n",
    "print(\"✅ Collage guardado como collage_distribucion_personalizada.png\")\n"
   ]
  }
 ],
 "metadata": {
  "kernelspec": {
   "display_name": "Python 3",
   "language": "python",
   "name": "python3"
  },
  "language_info": {
   "codemirror_mode": {
    "name": "ipython",
    "version": 3
   },
   "file_extension": ".py",
   "mimetype": "text/x-python",
   "name": "python",
   "nbconvert_exporter": "python",
   "pygments_lexer": "ipython3",
   "version": "3.9.8"
  }
 },
 "nbformat": 4,
 "nbformat_minor": 5
}

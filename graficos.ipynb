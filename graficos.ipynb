{
 "cells": [
  {
   "cell_type": "code",
   "execution_count": 3,
   "id": "a7743175",
   "metadata": {},
   "outputs": [],
   "source": [
    "import importlib\n",
    "import funciones_analisis.estadisticas\n",
    "\n",
    "importlib.reload(funciones_analisis.estadisticas)\n",
    "importlib.reload(funciones_analisis.generales)\n",
    "\n",
    "from funciones_analisis.estadisticas import *\n",
    "from funciones_analisis.generales import *\n",
    "from statsbombpy import sb\n",
    "import pandas as pd\n",
    "from mplsoccer import VerticalPitch, Pitch\n",
    "from highlight_text import ax_text, fig_text\n",
    "import matplotlib.pyplot as plt\n",
    "from matplotlib.colors import LinearSegmentedColormap\n",
    "import matplotlib.patheffects as path_effects\n",
    "import seaborn as sns\n",
    "import glob"
   ]
  },
  {
   "cell_type": "code",
   "execution_count": 13,
   "id": "37856bf2",
   "metadata": {},
   "outputs": [
    {
     "data": {
      "text/html": [
       "<div>\n",
       "<style scoped>\n",
       "    .dataframe tbody tr th:only-of-type {\n",
       "        vertical-align: middle;\n",
       "    }\n",
       "\n",
       "    .dataframe tbody tr th {\n",
       "        vertical-align: top;\n",
       "    }\n",
       "\n",
       "    .dataframe thead th {\n",
       "        text-align: right;\n",
       "    }\n",
       "</style>\n",
       "<table border=\"1\" class=\"dataframe\">\n",
       "  <thead>\n",
       "    <tr style=\"text-align: right;\">\n",
       "      <th></th>\n",
       "      <th>competition_id</th>\n",
       "      <th>season_id</th>\n",
       "      <th>country_name</th>\n",
       "      <th>competition_name</th>\n",
       "      <th>competition_gender</th>\n",
       "      <th>competition_youth</th>\n",
       "      <th>competition_international</th>\n",
       "      <th>season_name</th>\n",
       "      <th>match_updated</th>\n",
       "      <th>match_updated_360</th>\n",
       "      <th>match_available_360</th>\n",
       "      <th>match_available</th>\n",
       "    </tr>\n",
       "  </thead>\n",
       "  <tbody>\n",
       "    <tr>\n",
       "      <th>72</th>\n",
       "      <td>72</td>\n",
       "      <td>107</td>\n",
       "      <td>International</td>\n",
       "      <td>Women's World Cup</td>\n",
       "      <td>female</td>\n",
       "      <td>False</td>\n",
       "      <td>True</td>\n",
       "      <td>2023</td>\n",
       "      <td>2024-07-14T16:59:48.469596</td>\n",
       "      <td>2024-07-14T17:01:38.887279</td>\n",
       "      <td>2024-07-14T17:01:38.887279</td>\n",
       "      <td>2024-07-14T16:59:48.469596</td>\n",
       "    </tr>\n",
       "    <tr>\n",
       "      <th>73</th>\n",
       "      <td>72</td>\n",
       "      <td>30</td>\n",
       "      <td>International</td>\n",
       "      <td>Women's World Cup</td>\n",
       "      <td>female</td>\n",
       "      <td>False</td>\n",
       "      <td>True</td>\n",
       "      <td>2019</td>\n",
       "      <td>2024-02-13T09:41:26.379767</td>\n",
       "      <td>2021-06-13T16:17:31.694</td>\n",
       "      <td>None</td>\n",
       "      <td>2024-02-13T09:41:26.379767</td>\n",
       "    </tr>\n",
       "  </tbody>\n",
       "</table>\n",
       "</div>"
      ],
      "text/plain": [
       "    competition_id  season_id   country_name   competition_name  \\\n",
       "72              72        107  International  Women's World Cup   \n",
       "73              72         30  International  Women's World Cup   \n",
       "\n",
       "   competition_gender  competition_youth  competition_international  \\\n",
       "72             female              False                       True   \n",
       "73             female              False                       True   \n",
       "\n",
       "   season_name               match_updated           match_updated_360  \\\n",
       "72        2023  2024-07-14T16:59:48.469596  2024-07-14T17:01:38.887279   \n",
       "73        2019  2024-02-13T09:41:26.379767     2021-06-13T16:17:31.694   \n",
       "\n",
       "           match_available_360             match_available  \n",
       "72  2024-07-14T17:01:38.887279  2024-07-14T16:59:48.469596  \n",
       "73                        None  2024-02-13T09:41:26.379767  "
      ]
     },
     "execution_count": 13,
     "metadata": {},
     "output_type": "execute_result"
    }
   ],
   "source": [
    "free_comps = sb.competitions()\n",
    "\n",
    "free_comps[free_comps[\"competition_name\"] == \"Women's World Cup\"]\n"
   ]
  },
  {
   "cell_type": "code",
   "execution_count": 5,
   "id": "7e280e8d",
   "metadata": {},
   "outputs": [],
   "source": [
    "# Extraer únicos con país y si es internacional\n",
    "df_unique = free_comps[['competition_name', 'country_name']].drop_duplicates()\n",
    "\n",
    "# Ordenar por nombre\n",
    "df_unique = df_unique.sort_values('competition_name')\n",
    "\n",
    "# Guardar resultado\n",
    "df_unique.to_csv(\"datos/otros/competitions_with_country.csv\", index=False)\n"
   ]
  },
  {
   "cell_type": "code",
   "execution_count": 14,
   "id": "53231e67",
   "metadata": {},
   "outputs": [
    {
     "name": "stdout",
     "output_type": "stream",
     "text": [
      "Requirement already satisfied: pillow in c:\\users\\germán llorente\\appdata\\local\\programs\\python\\python39\\lib\\site-packages (10.1.0)\n"
     ]
    },
    {
     "name": "stderr",
     "output_type": "stream",
     "text": [
      "\n",
      "[notice] A new release of pip is available: 24.2 -> 25.0.1\n",
      "[notice] To update, run: python.exe -m pip install --upgrade pip\n"
     ]
    }
   ],
   "source": [
    "!pip install pillow\n"
   ]
  },
  {
   "cell_type": "code",
   "execution_count": 23,
   "id": "04da7d35",
   "metadata": {},
   "outputs": [
    {
     "name": "stdout",
     "output_type": "stream",
     "text": [
      "✅ Collage generado como collage_competiciones.png (manteniendo proporciones)\n"
     ]
    }
   ],
   "source": [
    "from PIL import Image\n",
    "import os\n",
    "import math\n",
    "\n",
    "# Carpeta donde están los logos\n",
    "carpeta = \"imagenes/competiciones_statsbomb\"\n",
    "\n",
    "# Parámetros\n",
    "max_ancho, max_alto = 200, 200  # Tamaño máximo para cada logo (sin deformar)\n",
    "espaciado = 30                  # Espacio entre logos\n",
    "columnas = 5                    # Número de columnas\n",
    "\n",
    "# Cargar imágenes y escalarlas proporcionalmente\n",
    "imagenes_escaladas = []\n",
    "for archivo in os.listdir(carpeta):\n",
    "    if archivo.lower().endswith(('.png', '.jpg', '.jpeg')):\n",
    "        ruta = os.path.join(carpeta, archivo)\n",
    "        img = Image.open(ruta).convert(\"RGBA\")\n",
    "\n",
    "        # Escalado proporcional\n",
    "        img.thumbnail((max_ancho, max_alto), Image.LANCZOS)\n",
    "        imagenes_escaladas.append(img)\n",
    "\n",
    "# Calcular tamaño del collage\n",
    "num_imagenes = len(imagenes_escaladas)\n",
    "filas = math.ceil(num_imagenes / columnas)\n",
    "ancho_total = columnas * max_ancho + (columnas + 1) * espaciado\n",
    "alto_total = filas * max_alto + (filas + 1) * espaciado\n",
    "\n",
    "# Crear fondo blanco\n",
    "collage = Image.new(\"RGBA\", (ancho_total, alto_total), (255, 255, 255, 255))\n",
    "\n",
    "# Pegar imágenes centradas en cada celda\n",
    "x_inicial, y_inicial = espaciado, espaciado\n",
    "for i, img in enumerate(imagenes_escaladas):\n",
    "    fila = i // columnas\n",
    "    columna = i % columnas\n",
    "\n",
    "    x_celda = columna * (max_ancho + espaciado) + espaciado\n",
    "    y_celda = fila * (max_alto + espaciado) + espaciado\n",
    "\n",
    "    # Centrar la imagen en su celda\n",
    "    x_offset = x_celda + (max_ancho - img.width) // 2\n",
    "    y_offset = y_celda + (max_alto - img.height) // 2\n",
    "\n",
    "    collage.paste(img, (x_offset, y_offset), img)\n",
    "\n",
    "# Guardar el collage final\n",
    "collage.save(\"imagenes/collage_competiciones.png\")\n",
    "print(\"✅ Collage generado como collage_competiciones.png (manteniendo proporciones)\")\n"
   ]
  }
 ],
 "metadata": {
  "kernelspec": {
   "display_name": "Python 3",
   "language": "python",
   "name": "python3"
  },
  "language_info": {
   "codemirror_mode": {
    "name": "ipython",
    "version": 3
   },
   "file_extension": ".py",
   "mimetype": "text/x-python",
   "name": "python",
   "nbconvert_exporter": "python",
   "pygments_lexer": "ipython3",
   "version": "3.9.8"
  }
 },
 "nbformat": 4,
 "nbformat_minor": 5
}

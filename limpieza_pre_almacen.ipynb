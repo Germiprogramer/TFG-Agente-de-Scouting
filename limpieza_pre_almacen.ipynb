{
 "cells": [
  {
   "cell_type": "markdown",
   "id": "1d790360",
   "metadata": {},
   "source": [
    "**En este NoteBook se van a realizar actividades de limpieza extras**"
   ]
  },
  {
   "cell_type": "code",
   "execution_count": 1,
   "id": "ba2f0a6d",
   "metadata": {},
   "outputs": [],
   "source": [
    "import pandas as pd\n",
    "\n",
    "\n",
    "# Cargar el archivo CSV\n",
    "df_total_v4 = pd.read_csv(\"datos/datos_jugadores_v4/jugadores_total.csv\")\n",
    "df_total_v5 = pd.read_csv(\"datos/datos_jugadores_v5/jugadores_total.csv\")\n",
    "\n",
    "# Crear la nueva columna\n",
    "df_total_v4['sufficient_minutes_played'] = df_total_v4['minutes_played'] >= 850\n",
    "df_total_v5['sufficient_minutes_played'] = df_total_v5['minutes_played'] >= 850"
   ]
  },
  {
   "cell_type": "code",
   "execution_count": 2,
   "id": "7db9214a",
   "metadata": {},
   "outputs": [],
   "source": [
    "df_mezcla = pd.read_csv(\"datos/normalizaciones_posicion/mezcla/mezcla_total.csv\")\n",
    "df_equipos = pd.read_csv(\"datos/datos_equipos/ligas_europeas16_equipos.csv\")"
   ]
  },
  {
   "cell_type": "code",
   "execution_count": 3,
   "id": "51f46489",
   "metadata": {},
   "outputs": [],
   "source": [
    "# Supongamos que tu DataFrame se llama df_equipos\n",
    "df_equipos.rename(columns={\n",
    "    'team_id': 'team_id',\n",
    "    'team': 'team_name',\n",
    "    'presupuesto_fichajes': 'transfer_budget',\n",
    "    'presupuesto_sueldos': 'wage_budget',\n",
    "    'competicion': 'competition'\n",
    "}, inplace=True)"
   ]
  },
  {
   "cell_type": "code",
   "execution_count": 4,
   "id": "ed176fe4",
   "metadata": {},
   "outputs": [
    {
     "data": {
      "text/plain": [
       "Index(['Unnamed: 0', 'player_id', 'player_name', 'team', 'main_position',\n",
       "       'team_id', 'minutes_played', 'saves_per90', 'save_percentage',\n",
       "       'xg_against_minus_goals_conceded_per90', 'keeper_sweeper_per90',\n",
       "       'penalty_save_percentage', 'aerial_dominance_index_per90',\n",
       "       'pass_completion_rate', 'rating', 'rating_normalizado',\n",
       "       'tackle_success_rate', 'tackles_successful_per90',\n",
       "       'interceptions_per90', 'interception_success_rate', 'pressures_per90',\n",
       "       'chances_created_per90', 'progressive_carries_per90',\n",
       "       'crosses_completed_per90', 'duels_won_per90', 'fouls_committed_per90',\n",
       "       'goals_scored_per90', 'goal_assists_per90', 'progressive_carries_rate',\n",
       "       'clearances_per90', 'blocks_per90', 'times_dribbled_past_per90',\n",
       "       'progressive_passes_per90', 'duel_success_rate',\n",
       "       'ball_recoveries_per90', 'dribbles_completed_per90',\n",
       "       'dribble_success_rate', 'key_passes_per90', 'shots_total_per90',\n",
       "       'xg_total_per90', 'fouls_won_per90', 'goals_minus_xg_per90',\n",
       "       'shot_accuracy', 'penalties_won_per90', 'headed_shot_duel_rate'],\n",
       "      dtype='object')"
      ]
     },
     "execution_count": 4,
     "metadata": {},
     "output_type": "execute_result"
    }
   ],
   "source": [
    "df_mezcla.columns"
   ]
  },
  {
   "cell_type": "markdown",
   "id": "55452dc5",
   "metadata": {},
   "source": [
    "Eliminar columnas innecesarias de los dataframes de equipos y estadísticas normalizadas"
   ]
  },
  {
   "cell_type": "code",
   "execution_count": 5,
   "id": "cb01016d",
   "metadata": {},
   "outputs": [],
   "source": [
    "# 2. Eliminar columnas innecesarias\n",
    "\n",
    "mezcla = ['player_id', 'saves_per90', 'save_percentage',\n",
    "       'xg_against_minus_goals_conceded_per90', 'keeper_sweeper_per90',\n",
    "       'penalty_save_percentage', 'aerial_dominance_index_per90',\n",
    "       'pass_completion_rate',\n",
    "       'tackle_success_rate', 'tackles_successful_per90',\n",
    "       'interceptions_per90', 'interception_success_rate', 'pressures_per90',\n",
    "       'chances_created_per90', 'progressive_carries_per90',\n",
    "       'crosses_completed_per90', 'duels_won_per90', 'fouls_committed_per90',\n",
    "       'goals_scored_per90', 'goal_assists_per90', 'clearances_per90',\n",
    "       'blocks_per90', 'times_dribbled_past_per90', 'progressive_passes_per90',\n",
    "       'duel_success_rate', 'ball_recoveries_per90',\n",
    "       'dribbles_completed_per90', 'dribble_success_rate', 'key_passes_per90',\n",
    "       'shots_total_per90', 'xg_total_per90', 'fouls_won_per90',\n",
    "       'goals_minus_xg_per90', 'progressive_carries_rate', 'shot_accuracy',\n",
    "       'penalties_won_per90', 'headed_shot_duel_rate']\n",
    "\n",
    "columnas_a_eliminar = ['overall', 'potential', 'Unnamed: 0', 'outdated_rating']\n",
    "\n",
    "# Asegúrate de que existen en el DataFrame antes de intentar eliminarlas\n",
    "df_total_v4 = df_total_v4.drop(columns=[col for col in columnas_a_eliminar if col in df_total_v4.columns])\n",
    "df_mezcla = df_mezcla[mezcla]"
   ]
  },
  {
   "cell_type": "markdown",
   "id": "fad0298d",
   "metadata": {},
   "source": [
    "Corregir problema con aerial_dominance_index"
   ]
  },
  {
   "cell_type": "code",
   "execution_count": 6,
   "id": "cd9557d3",
   "metadata": {},
   "outputs": [],
   "source": [
    "for df in [df_total_v4, df_total_v5]:\n",
    "    df['main_position'] = df['main_position'].astype(str)\n",
    "    df.loc[df['main_position'] != 'goalkeeper', ['aerial_dominance_index', 'aerial_dominance_index_per90']] = 0\n"
   ]
  },
  {
   "cell_type": "code",
   "execution_count": 12,
   "id": "f9c7729f",
   "metadata": {},
   "outputs": [
    {
     "name": "stdout",
     "output_type": "stream",
     "text": [
      "                           player_name main_position  aerial_dominance_index  \\\n",
      "6                          Mathew Ryan    goalkeeper                    13.5   \n",
      "10                     Alphonse Areola    goalkeeper                    46.1   \n",
      "26          Claudio Andrés Bravo Muñoz    goalkeeper                     9.3   \n",
      "58    Francisco Guillermo Ochoa Magaña    goalkeeper                     7.8   \n",
      "61                 Keylor Navas Gamboa    goalkeeper                    34.2   \n",
      "...                                ...           ...                     ...   \n",
      "1827                    Thomas Kessler    goalkeeper                     1.0   \n",
      "1849           Mitchell James Langerak    goalkeeper                     2.7   \n",
      "1851                        Jens Grahl    goalkeeper                     0.0   \n",
      "1871               Alexander Manninger    goalkeeper                     0.0   \n",
      "1884                      Dario Kresic    goalkeeper                     0.0   \n",
      "\n",
      "      aerial_dominance_index_per90  \n",
      "6                             13.5  \n",
      "10                            46.1  \n",
      "26                             9.3  \n",
      "58                             7.8  \n",
      "61                            34.2  \n",
      "...                            ...  \n",
      "1827                           1.0  \n",
      "1849                           2.7  \n",
      "1851                           0.0  \n",
      "1871                           0.0  \n",
      "1884                           0.0  \n",
      "\n",
      "[165 rows x 4 columns]\n"
     ]
    }
   ],
   "source": [
    "# Mostrar filas de df1 donde la posición no sea 'goalkeeper'\n",
    "# para comprobar que los valores son 0\n",
    "print(df_total_v4[df_total_v4['main_position'] == 'goalkeeper'][['player_name', 'main_position', 'aerial_dominance_index', 'aerial_dominance_index_per90']])\n"
   ]
  },
  {
   "cell_type": "code",
   "execution_count": 20,
   "id": "cd32818d",
   "metadata": {},
   "outputs": [
    {
     "name": "stdout",
     "output_type": "stream",
     "text": [
      "                           player_name main_position  aerial_dominance_index  \\\n",
      "6                          Mathew Ryan    goalkeeper                    13.5   \n",
      "10                     Alphonse Areola    goalkeeper                    46.1   \n",
      "26          Claudio Andrés Bravo Muñoz    goalkeeper                     9.3   \n",
      "58    Francisco Guillermo Ochoa Magaña    goalkeeper                     7.8   \n",
      "61                 Keylor Navas Gamboa    goalkeeper                    34.2   \n",
      "...                                ...           ...                     ...   \n",
      "1779                        Bernd Leno    goalkeeper                    43.0   \n",
      "1784                      Thomas Kraft    goalkeeper                     3.7   \n",
      "1813                    Felix Wiedwald    goalkeeper                    35.1   \n",
      "1816                   Jaroslav Drobný    goalkeeper                    14.7   \n",
      "1849           Mitchell James Langerak    goalkeeper                     2.7   \n",
      "\n",
      "      aerial_dominance_index_per90  \n",
      "6                         1.622163  \n",
      "10                        1.390416  \n",
      "26                        0.283057  \n",
      "58                        0.756466  \n",
      "61                        0.976523  \n",
      "...                            ...  \n",
      "1779                      1.261408  \n",
      "1784                      0.602170  \n",
      "1813                      1.001585  \n",
      "1816                      1.578759  \n",
      "1849                      1.313514  \n",
      "\n",
      "[151 rows x 4 columns]\n"
     ]
    }
   ],
   "source": [
    "# Comparar si los valores son diferentes\n",
    "diferencias = df_total_v4[df_total_v4['aerial_dominance_index'] != df_total_v4['aerial_dominance_index_per90']]\n",
    "\n",
    "# Mostrar las filas donde hay diferencia\n",
    "print(diferencias[['player_name', 'main_position', 'aerial_dominance_index', 'aerial_dominance_index_per90']])"
   ]
  },
  {
   "cell_type": "code",
   "execution_count": 16,
   "id": "06b62a7e",
   "metadata": {},
   "outputs": [],
   "source": [
    "# Asegúrate de que no haya división por cero\n",
    "df_total_v4['aerial_dominance_index_per90'] = df_total_v4.apply(\n",
    "    lambda row: (row['aerial_dominance_index'] / row['minutes_played'] * 90)\n",
    "    if row['minutes_played'] > 0 else 0,\n",
    "    axis=1\n",
    ")\n"
   ]
  },
  {
   "cell_type": "code",
   "execution_count": 17,
   "id": "f685ed8d",
   "metadata": {},
   "outputs": [],
   "source": [
    "# Hacemos merge para obtener la columna actualizada desde df_total_v4\n",
    "merged = df_total_v5.merge(\n",
    "    df_total_v4[['player_id', 'aerial_dominance_index_per90']],\n",
    "    on='player_id',\n",
    "    how='left',\n",
    "    suffixes=('', '_from_v4')\n",
    ")\n",
    "\n",
    "# Reemplazar solo si el valor actual no es 0\n",
    "merged['aerial_dominance_index_per90'] = merged.apply(\n",
    "    lambda row: row['aerial_dominance_index_per90_from_v4']\n",
    "    if row['aerial_dominance_index_per90'] != 0 else 0,\n",
    "    axis=1\n",
    ")\n",
    "\n",
    "# Eliminar columna auxiliar y guardar cambios en df_total_v5\n",
    "df_total_v5 = merged.drop(columns='aerial_dominance_index_per90_from_v4')\n"
   ]
  },
  {
   "cell_type": "code",
   "execution_count": null,
   "id": "fe05bd57",
   "metadata": {},
   "outputs": [],
   "source": [
    "# Guardar el resultado\n",
    "df_total_v4.to_csv(\"datos/datos_jugadores_v4/jugadores_total.csv\", index=False)\n",
    "df_total_v5.to_csv(\"datos/datos_jugadores_v5/jugadores_total.csv\", index=False)"
   ]
  },
  {
   "cell_type": "code",
   "execution_count": null,
   "id": "dd2241f2",
   "metadata": {},
   "outputs": [],
   "source": [
    "df_mezcla.to_csv(\"datos/normalizaciones_posicion/mezcla/mezcla_total.csv\")\n",
    "df_equipos.to_csv(\"datos/datos_equipos/ligas_europeas16_equipos.csv\")"
   ]
  }
 ],
 "metadata": {
  "kernelspec": {
   "display_name": "Python 3",
   "language": "python",
   "name": "python3"
  },
  "language_info": {
   "codemirror_mode": {
    "name": "ipython",
    "version": 3
   },
   "file_extension": ".py",
   "mimetype": "text/x-python",
   "name": "python",
   "nbconvert_exporter": "python",
   "pygments_lexer": "ipython3",
   "version": "3.9.8"
  }
 },
 "nbformat": 4,
 "nbformat_minor": 5
}
